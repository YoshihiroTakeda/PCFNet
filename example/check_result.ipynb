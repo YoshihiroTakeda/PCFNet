{
 "cells": [
  {
   "cell_type": "markdown",
   "metadata": {},
   "source": [
    "# Header"
   ]
  },
  {
   "cell_type": "code",
   "execution_count": null,
   "metadata": {},
   "outputs": [],
   "source": [
    "# ## Please run the following command to generate the results\n",
    "# !cd .. ; bash src/run_all.sh"
   ]
  },
  {
   "cell_type": "code",
   "execution_count": null,
   "metadata": {},
   "outputs": [],
   "source": [
    "import numpy as np\n",
    "import pandas as pd\n",
    "import matplotlib.pyplot as plt"
   ]
  },
  {
   "cell_type": "code",
   "execution_count": null,
   "metadata": {},
   "outputs": [],
   "source": [
    "obsdata = {}\n",
    "for key in [\"COSMOS\", \"XMM-LSS\", \"DEEP2-3\", \"ELAIS-N1\"]:\n",
    "    obsdata[key] = pd.read_csv(\"../data/obs/gdropout_{}.csv\".format(key))\n",
    "    df = pd.read_hdf('../output/result/obs_pred_PCFNet.h5', key=f\"0/{key}/pred\")\n",
    "    df.set_index(\"index\", inplace=True)\n",
    "    obsdata[key] = pd.merge(obsdata[key], df, left_index=True, right_index=True)\n",
    "all_obsdata = pd.concat([obsdata[key] for key in [\"COSMOS\", \"XMM-LSS\", \"DEEP2-3\", \"ELAIS-N1\"]])"
   ]
  },
  {
   "cell_type": "code",
   "execution_count": null,
   "metadata": {},
   "outputs": [],
   "source": [
    "obsdata[key].head()"
   ]
  },
  {
   "cell_type": "code",
   "execution_count": null,
   "metadata": {},
   "outputs": [],
   "source": [
    "fig, ax = plt.subplots(figsize=(6, 4))\n",
    "ax.hist(all_obsdata[\"pred\"], bins=50, range=(0, 1), histtype=\"step\", label=\"All\") \n",
    "\n",
    "ax.set_xlabel(\"Predicted Probability\")\n",
    "ax.set_ylabel(\"Number of Galaxies\")\n",
    "ax.legend()"
   ]
  },
  {
   "cell_type": "code",
   "execution_count": null,
   "metadata": {},
   "outputs": [],
   "source": [
    "for key in [\"COSMOS\", \"XMM-LSS\", \"DEEP2-3\", \"ELAIS-N1\"]:\n",
    "    fig, ax = plt.subplots(figsize=(6, 4), constrained_layout=True)\n",
    "    im = ax.scatter(\n",
    "        obsdata[key][\"ra\"],\n",
    "        obsdata[key][\"dec\"], \n",
    "        c=obsdata[key][\"pred\"], \n",
    "        s=1, \n",
    "        cmap=\"jet\",\n",
    "        vmin=0, \n",
    "        vmax=1)\n",
    "    fig.colorbar(im, ax=ax, label=\"Predicted Probability\")\n",
    "    ax.invert_xaxis()\n",
    "    ax.set_aspect(1/np.cos((obsdata[key][\"dec\"].mean() * np.pi / 180)))\n",
    "    ax.set_title(key)\n",
    "    ax.set_xlabel(\"R.A.\")\n",
    "    ax.set_ylabel(\"Decl.\")"
   ]
  },
  {
   "cell_type": "code",
   "execution_count": null,
   "metadata": {},
   "outputs": [],
   "source": []
  }
 ],
 "metadata": {
  "kernelspec": {
   "display_name": "base",
   "language": "python",
   "name": "python3"
  },
  "language_info": {
   "codemirror_mode": {
    "name": "ipython",
    "version": 3
   },
   "file_extension": ".py",
   "mimetype": "text/x-python",
   "name": "python",
   "nbconvert_exporter": "python",
   "pygments_lexer": "ipython3",
   "version": "3.10.14"
  }
 },
 "nbformat": 4,
 "nbformat_minor": 2
}
